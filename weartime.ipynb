{
 "cells": [
  {
   "cell_type": "code",
   "execution_count": 4,
   "metadata": {},
   "outputs": [],
   "source": [
    "import pandas as pd\n",
    "import numpy as np\n",
    "import boto3\n",
    "from botocore.exceptions import ClientError\n"
   ]
  },
  {
   "cell_type": "code",
   "execution_count": 2,
   "metadata": {},
   "outputs": [],
   "source": [
    "DATABASE_NAME = \"test_u01_embrace\"\n",
    "TABLE_NAME = \"eda\""
   ]
  },
  {
   "cell_type": "code",
   "execution_count": 3,
   "metadata": {},
   "outputs": [],
   "source": [
    "class Query(object):\n",
    "\n",
    "    def __init__(self, client):\n",
    "        self.client = client\n",
    "        self.paginator = client.get_paginator('query')\n",
    "\n",
    "    # See records ingested into this table so far\n",
    "    SELECT_ALL = f\"SELECT * FROM {DATABASE_NAME}.{TABLE_NAME}\"\n",
    "\n",
    "    def run_query(self, query_string):\n",
    "        try:\n",
    "            page_iterator = self.paginator.paginate(QueryString=query_string)\n",
    "            for page in page_iterator:\n",
    "                self._parse_query_result(page)\n",
    "        except Exception as err:\n",
    "            print(\"Exception while running query:\", err)\n",
    "\n",
    "    def _parse_query_result(self, query_result):\n",
    "        column_info = query_result['ColumnInfo']\n",
    "\n",
    "        print(\"Metadata: %s\" % column_info)\n",
    "        print(\"Data: \")\n",
    "        for row in query_result['Rows']:\n",
    "            print(self._parse_row(column_info, row))\n",
    "\n",
    "    def _parse_row(self, column_info, row):\n",
    "        data = row['Data']\n",
    "        row_output = []\n",
    "        for j in range(len(data)):\n",
    "            info = column_info[j]\n",
    "            datum = data[j]\n",
    "            row_output.append(self._parse_datum(info, datum))\n",
    "\n",
    "        return \"{%s}\" % str(row_output)\n",
    "\n",
    "    def _parse_datum(self, info, datum):\n",
    "        if datum.get('NullValue', False):\n",
    "            return \"%s=NULL\" % info['Name'],\n",
    "\n",
    "        column_type = info['Type']\n",
    "\n",
    "        # If the column is of TimeSeries Type\n",
    "        if 'TimeSeriesMeasureValueColumnInfo' in column_type:\n",
    "            return self._parse_time_series(info, datum)\n",
    "\n",
    "        # If the column is of Array Type\n",
    "        elif 'ArrayColumnInfo' in column_type:\n",
    "            array_values = datum['ArrayValue']\n",
    "            return \"%s=%s\" % (info['Name'], self._parse_array(info['Type']['ArrayColumnInfo'], array_values))\n",
    "\n",
    "        # If the column is of Row Type\n",
    "        elif 'RowColumnInfo' in column_type:\n",
    "            row_column_info = info['Type']['RowColumnInfo']\n",
    "            row_values = datum['RowValue']\n",
    "            return self._parse_row(row_column_info, row_values)\n",
    "\n",
    "        # If the column is of Scalar Type\n",
    "        else:\n",
    "            return self._parse_column_name(info) + datum['ScalarValue']\n",
    "\n",
    "    def _parse_time_series(self, info, datum):\n",
    "        time_series_output = []\n",
    "        for data_point in datum['TimeSeriesValue']:\n",
    "            time_series_output.append(\"{time=%s, value=%s}\"\n",
    "                                      % (data_point['Time'],\n",
    "                                         self._parse_datum(info['Type']['TimeSeriesMeasureValueColumnInfo'],\n",
    "                                                           data_point['Value'])))\n",
    "        return \"[%s]\" % str(time_series_output)\n",
    "\n",
    "    def _parse_array(self, array_column_info, array_values):\n",
    "        array_output = []\n",
    "        for datum in array_values:\n",
    "            array_output.append(self._parse_datum(array_column_info, datum))\n",
    "\n",
    "        return \"[%s]\" % str(array_output)\n",
    "\n",
    "    def run_query_with_multiple_pages(self, limit):\n",
    "        query_with_limit = self.SELECT_ALL + \" LIMIT \" + str(limit)\n",
    "        print(\"Starting query with multiple pages : \" + query_with_limit)\n",
    "        self.run_query(query_with_limit)\n",
    "\n",
    "    def cancel_query(self):\n",
    "        print(\"Starting query: \" + self.SELECT_ALL)\n",
    "        result = self.client.query(QueryString=self.SELECT_ALL)\n",
    "        print(\"Cancelling query: \" + self.SELECT_ALL)\n",
    "        try:\n",
    "            self.client.cancel_query(QueryId=result['QueryId'])\n",
    "            print(\"Query has been successfully cancelled\")\n",
    "        except Exception as err:\n",
    "            print(\"Cancelling query failed:\", err)\n",
    "\n",
    "    @staticmethod\n",
    "    def _parse_column_name(info):\n",
    "        if 'Name' in info:\n",
    "            return info['Name'] + \"=\"\n",
    "        else:\n",
    "            return \"\"\n"
   ]
  },
  {
   "cell_type": "code",
   "execution_count": 7,
   "metadata": {},
   "outputs": [],
   "source": [
    "profile_name = 'nocklab'\n",
    "session = boto3.Session(profile_name=profile_name)\n",
    "query_client = session.client('timestream-query')"
   ]
  },
  {
   "cell_type": "code",
   "execution_count": 8,
   "metadata": {},
   "outputs": [
    {
     "data": {
      "text/plain": [
       "<botocore.client.TimestreamQuery at 0x13873ba90>"
      ]
     },
     "execution_count": 8,
     "metadata": {},
     "output_type": "execute_result"
    }
   ],
   "source": [
    "Q = Query(query_client)\n",
    "QUERY_1 = f\"\"\"\n",
    "        SELECT time, venue_time, measure_value::double\n",
    "        FROM {DATABASE_NAME}.{TABLE_NAME} ORDER BY venue_time, time DESC LIMIT 1000 \n",
    "        \"\"\""
   ]
  }
 ],
 "metadata": {
  "kernelspec": {
   "display_name": "Python 3 (ipykernel)",
   "language": "python",
   "name": "python3"
  },
  "language_info": {
   "codemirror_mode": {
    "name": "ipython",
    "version": 3
   },
   "file_extension": ".py",
   "mimetype": "text/x-python",
   "name": "python",
   "nbconvert_exporter": "python",
   "pygments_lexer": "ipython3",
   "version": "3.10.9"
  }
 },
 "nbformat": 4,
 "nbformat_minor": 1
}
